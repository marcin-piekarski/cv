{
 "cells": [
  {
   "cell_type": "code",
   "execution_count": null,
   "metadata": {
    "collapsed": false
   },
   "outputs": [],
   "source": [
    "%matplotlib inline\n",
    "# import dependencies\n",
    "from matplotlib import pyplot as plt\n",
    "from matplotlib import image as mpimg\n",
    "import numpy as np\n",
    "import cv2\n",
    "print(\"OpenCV Version : %s \" % cv2.__version__)"
   ]
  },
  {
   "cell_type": "code",
   "execution_count": null,
   "metadata": {
    "collapsed": false
   },
   "outputs": [],
   "source": [
    "# load sample image\n",
    "img = mpimg.imread(r'C:\\Users\\mbess\\Dev\\py_repo\\cv\\data\\sample.png')"
   ]
  },
  {
   "cell_type": "markdown",
   "metadata": {},
   "source": [
    "#### sample.png  \n",
    "* 875w x 873h or 875 cols x 873 rows  \n",
    "* 763875 pixels  \n",
    "* original jpg was 24bit 96 dpi  "
   ]
  },
  {
   "cell_type": "code",
   "execution_count": null,
   "metadata": {
    "collapsed": false
   },
   "outputs": [],
   "source": [
    "img"
   ]
  },
  {
   "cell_type": "code",
   "execution_count": null,
   "metadata": {
    "collapsed": false
   },
   "outputs": [],
   "source": [
    "imgplot = plt.imshow(img)"
   ]
  },
  {
   "cell_type": "code",
   "execution_count": null,
   "metadata": {
    "collapsed": false
   },
   "outputs": [],
   "source": [
    "lum_img = img[:,:,0]\n",
    "imgplot = plt.imshow(lum_img)\n",
    "imgplot.set_cmap('cool')\n",
    "plt.colorbar()"
   ]
  },
  {
   "cell_type": "code",
   "execution_count": null,
   "metadata": {
    "collapsed": false
   },
   "outputs": [],
   "source": [
    "lumhist=plt.hist(lum_img.flatten(), 256, range=(0.0,1.0), fc='k', ec='k')"
   ]
  },
  {
   "cell_type": "markdown",
   "metadata": {},
   "source": [
    "#### Histogram Study\n",
    "A histogram represents the distribution of colors in an image  \n",
    "x is the 256 bins, y is the pixel count.  \n",
    "\n",
    "I make an assumption here that similar color distributions indicate similar content.  \n",
    "\n",
    "Comparing similarity performed using one of several distance metrics.  \n",
    "* Euclidean\n",
    "* correlation\n",
    "* Chi-squared\n",
    "* intersection\n"
   ]
  },
  {
   "cell_type": "markdown",
   "metadata": {},
   "source": [
    "#### cv2.calcHist function  \n",
    "`cv2.calcHist(images, channels, mask, histSize, ranges)`\n",
    "\n",
    "**images:** This is the image to compute a histogram for. Wrap it as a list: [myImage].\n",
    "\n",
    "**channels:** A list of indexes, where we specify the index of the channel we want to compute a histogram for. To compute a histogram of a grayscale image, the list would be [0]. To compute a histogram for all three red, green, and blue channels, the channels list would be [0, 1, 2].\n",
    "\n",
    "**mask:** essentially, a mask is a uint8  image with the same shape as the original image, where pixels with a value of zero are ignored and pixels with a value greater than zero are included in the histogram computation. Using masks permit computing a histogram for a particular region of an image.  See this being used to construct filters used for special cases. For now, use value of None for the mask.\n",
    "\n",
    "**histSize:** This is the number of bins used when computing a histogram. Like before, this is a list, one for each channel of the histogram. The bin sizes do not all have to be the same. Here is an example of 32 bins for each channel: [32, 32, 32].\n",
    "\n",
    "**ranges:** The range of possible pixel values. Normally, the RGB colorspace is used and has a range of [0, 256] for each channel. If other colorspaces are used i.e. HSV, the ranges might be different.\n"
   ]
  },
  {
   "cell_type": "code",
   "execution_count": null,
   "metadata": {
    "collapsed": false,
    "scrolled": false
   },
   "outputs": [],
   "source": [
    "# imgfile = r'C:\\Users\\mbess\\Dev\\py_repo\\cv\\color-histograms\\grant.jpg'\n",
    "\n",
    "# load the image and show it\n",
    "image = cv2.imread(r'C:\\Users\\mbess\\Dev\\py_repo\\cv\\color-histograms\\grant.jpg')\n",
    "plt.imshow(image)"
   ]
  },
  {
   "cell_type": "markdown",
   "metadata": {},
   "source": [
    "the image has been correctly read by cv2 and shown by pyplot. Notice the colors don't look just right.\n",
    "\n",
    "Caused by a conflict of default color spaces between cv2 and pyplot\n",
    "\n",
    "pyplot expects an image to be presented as RGB colorspace, but cv2 opened the image as BGR colorspace\n",
    "\n",
    "The cv2 function cvtColor will clean up the image. cvtColor has a number of flags representing the various colorspaces, which will be printed below"
   ]
  },
  {
   "cell_type": "code",
   "execution_count": null,
   "metadata": {
    "collapsed": false,
    "scrolled": true
   },
   "outputs": [],
   "source": [
    "BGRflags = [flag for flag in dir(cv2) if flag.startswith('COLOR_BGR') ]\n",
    "print(BGRflags)"
   ]
  },
  {
   "cell_type": "code",
   "execution_count": null,
   "metadata": {
    "collapsed": false,
    "scrolled": true
   },
   "outputs": [],
   "source": [
    "rgb_image = cv2.cvtColor(image, cv2.COLOR_BGR2RGB)\n",
    "plt.imshow(rgb_image)"
   ]
  },
  {
   "cell_type": "markdown",
   "metadata": {},
   "source": [
    "much better. Now to convert to gray"
   ]
  },
  {
   "cell_type": "code",
   "execution_count": null,
   "metadata": {
    "collapsed": false
   },
   "outputs": [],
   "source": [
    "# convert the image to grayscale and create a histogram\n",
    "gray = cv2.cvtColor(image, cv2.COLOR_BGR2GRAY)\n",
    "plt.imshow(gray)\n",
    "hist = cv2.calcHist([gray], [0], None, [256], [0, 256])\n",
    "plt.figure()\n",
    "plt.title(\"Grayscale Histogram\")\n",
    "plt.xlabel(\"Bins\")\n",
    "plt.ylabel(\"Pixel Count\")\n",
    "plt.plot(hist)\n",
    "plt.xlim([0, 256])\n",
    "plt.show()"
   ]
  },
  {
   "cell_type": "markdown",
   "metadata": {},
   "source": [
    "#### Flattened Color Histogram  \n",
    "* **Lines 3-4:** The first thing we are going to do is split the image into its three channels: blue, green, and red. Normally, we read this is a red, green, blue (RGB). However, OpenCV stores the image as a NumPy array in reverse order: BGR. This is important to note. We then initialize a tuple of strings representing the colors.  \n",
    "  \n",
    "* **Lines 5-9:** Here we are just setting up our PyPlot figure and initializing our list of concatenated histograms.  \n",
    "  \n",
    "* **Line 12:** Let’s start looping over the channels.  \n",
    "  \n",
    "* **Line 16-17:** We are now computing a histogram for each channel. Essentially, this is the same as computing a histogram for a single channeled grayscale image. We then concatenate the color histogram to our features list.  \n",
    "  \n",
    "* **Line 20:** Plot the histogram using the current channel name.  \n",
    "  \n",
    "* **Line 29:** Here we are just examining the shape of our flattened color histogram. I call this a “flattened” histogram not because the (1) histogram has zero “peaks” or (2) I am calling NumPy’s flatten() method. I call this a “flattened” histogram because the histogram is a single list of pixel counts. Later, we explore multi-dimensional histograms (2D and 3D). A flattened histogram is simply the histogram for each individual channel concatenated together.  "
   ]
  },
  {
   "cell_type": "code",
   "execution_count": null,
   "metadata": {
    "collapsed": true
   },
   "outputs": [],
   "source": [
    "# grab the image channels, initialize the tuple of colors,\n",
    "# the figure and the flattened feature vector\n",
    "chans = cv2.split(image)\n",
    "colors = (\"b\", \"g\", \"r\")\n",
    "plt.figure()\n",
    "plt.title(\"'Flattened' Color Histogram\")\n",
    "plt.xlabel(\"Bins\")\n",
    "plt.ylabel(\"Pixel Count\")\n",
    "features = []\n",
    "\n",
    "# loop over the image channels\n",
    "for (chan, color) in zip(chans, colors):\n",
    "\t# create a histogram for the current channel and\n",
    "\t# concatenate the resulting histograms for each\n",
    "\t# channel\n",
    "\thist = cv2.calcHist([chan], [0], None, [256], [0, 256])\n",
    "\tfeatures.extend(hist)\n",
    "\n",
    "\t# plot the histogram\n",
    "\tplt.plot(hist, color = color)\n",
    "\tplt.xlim([0, 256])\n",
    "\n",
    "plt.show()\n",
    "\n",
    "# here we are simply showing the dimensionality of the\n",
    "# flattened color histogram 256 bins for each channel\n",
    "# x 3 channels = 768 total values -- in practice, we would\n",
    "# normally not use 256 bins for each channel, a choice\n",
    "# between 32-96 bins are normally used, but this tends\n",
    "# to be application dependent\n",
    "\n",
    "print(\"flattened feature vector size: %d\" % (np.array(features).flatten().shape))\n"
   ]
  },
  {
   "cell_type": "markdown",
   "metadata": {},
   "source": [
    "## PIXEL\n",
    "\n",
    "- every image is a set of pixels.\n",
    "- analogous to a grid\n",
    "- represented as grayscale or color\n",
    "\n",
    "\n",
    "\n",
    "#### GRAYSCALE\n",
    "\n",
    "- value 0 - 255\n",
    "- 0 = black, 255 = white\n",
    "- values closer to 0 are darker\n",
    "- values closer to 255 are lighter\n",
    "\n",
    "\n",
    "#### COLOR\n",
    "- Often represented as the RGB colorspace.\n",
    "- Many colorspaces exist, but RGB is commonplace\n",
    "- consist of a tuple of three integer values between 0 - 255.\n",
    "- value set indicates how much of each color (R, G, B) is present in the pixel\n",
    "- white is made using (255, 255, 255);   black is (0, 0, 0)\n",
    "\n",
    "    \n",
    "\n",
    "#### Common Colors\n",
    "\n",
    "* Black: (0,0,0)\n",
    "* White: (255,255,255)\n",
    "* Red: (255,0,0)\n",
    "* Green: (0,255,0)\n",
    "* Blue: (0,0,255)\n",
    "* Aqua: (0,255,255)\n",
    "* Fuchsia: (255,0,255)\n",
    "* Maroon: (128,0,0)\n",
    "* Navy: (0,0,128)\n",
    "* Olive: (128,128,0)\n",
    "* Purple: (128,0,128)\n",
    "* Teal: (0,128,128)\n",
    "* Yellow: (255,255,0)"
   ]
  }
 ],
 "metadata": {
  "kernelspec": {
   "display_name": "Python 3",
   "language": "python",
   "name": "python3"
  },
  "language_info": {
   "codemirror_mode": {
    "name": "ipython",
    "version": 3
   },
   "file_extension": ".py",
   "mimetype": "text/x-python",
   "name": "python",
   "nbconvert_exporter": "python",
   "pygments_lexer": "ipython3",
   "version": "3.5.1"
  }
 },
 "nbformat": 4,
 "nbformat_minor": 0
}
